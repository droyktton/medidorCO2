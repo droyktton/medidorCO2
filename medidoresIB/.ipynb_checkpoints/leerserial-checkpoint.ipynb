{
 "cells": [
  {
   "cell_type": "code",
   "execution_count": null,
   "metadata": {},
   "outputs": [],
   "source": [
    "import serial\n",
    "import numpy as np\n",
    "import matplotlib.pyplot as plt\n",
    "import time\n",
    "\n",
    "co2=[]\n",
    "T=[]\n",
    "H=[]\n",
    "\n",
    "with open('medidor.txt', 'w') as the_file:\n",
    "    with serial.Serial('/dev/ttyACM0', 9600, timeout=1) as ser:\n",
    "        for i in range(0,10000,1):\n",
    "            line = ser.readline()\n",
    "            s=line.decode(\"utf-8\")\n",
    "            if len(s)>0: \n",
    "                lista=s.split(sep=\" \")\n",
    "                if lista[0]==\"co2(ppm):\": \n",
    "                    the_file.write(str(lista[1])+\" \"+str(lista[3])+\" \"+str(lista[5]))\n",
    "                    co2.append(lista[1])\n",
    "                    T.append(lista[3])\n",
    "                    H.append(lista[5])\n",
    "                the_file.flush()\n",
    "                    \n",
    "# serie temporal de co2\n",
    "# plt.plot(np.arange(0,len(co2)), co2, label='CO2')\n",
    "# plt.legend()\n",
    "# plt.show()\n",
    "            "
   ]
  },
  {
   "cell_type": "code",
   "execution_count": 27,
   "metadata": {},
   "outputs": [
    {
     "name": "stdout",
     "output_type": "stream",
     "text": [
      "leerserial.ipynb  medidoresIB.ino  medidor.txt\r\n"
     ]
    }
   ],
   "source": [
    "!ls\n"
   ]
  },
  {
   "cell_type": "code",
   "execution_count": null,
   "metadata": {},
   "outputs": [],
   "source": []
  }
 ],
 "metadata": {
  "kernelspec": {
   "display_name": "Python 3",
   "language": "python",
   "name": "python3"
  },
  "language_info": {
   "codemirror_mode": {
    "name": "ipython",
    "version": 3
   },
   "file_extension": ".py",
   "mimetype": "text/x-python",
   "name": "python",
   "nbconvert_exporter": "python",
   "pygments_lexer": "ipython3",
   "version": "3.7.6"
  }
 },
 "nbformat": 4,
 "nbformat_minor": 4
}
